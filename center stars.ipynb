{
 "cells": [
  {
   "cell_type": "code",
   "execution_count": 3,
   "id": "4e6aefd1",
   "metadata": {},
   "outputs": [
    {
     "name": "stdout",
     "output_type": "stream",
     "text": [
      "**ayub**\n"
     ]
    }
   ],
   "source": [
    "name=\"ayub\"\n",
    "print(name.center(8 ,\"*\"))"
   ]
  },
  {
   "cell_type": "code",
   "execution_count": 5,
   "id": "ac98e50b",
   "metadata": {},
   "outputs": [
    {
     "name": "stdout",
     "output_type": "stream",
     "text": [
      "enter ur name :ayub\n",
      "****ayub****\n"
     ]
    }
   ],
   "source": [
    "namee=input(\"enter ur name :\")\n",
    "print(namee.center(len(namee)+ 8,\"*\"))"
   ]
  }
 ],
 "metadata": {
  "kernelspec": {
   "display_name": "Python 3",
   "language": "python",
   "name": "python3"
  },
  "language_info": {
   "codemirror_mode": {
    "name": "ipython",
    "version": 3
   },
   "file_extension": ".py",
   "mimetype": "text/x-python",
   "name": "python",
   "nbconvert_exporter": "python",
   "pygments_lexer": "ipython3",
   "version": "3.8.8"
  }
 },
 "nbformat": 4,
 "nbformat_minor": 5
}
