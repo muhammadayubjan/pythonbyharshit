{
 "cells": [
  {
   "cell_type": "code",
   "execution_count": 3,
   "id": "e8919722",
   "metadata": {},
   "outputs": [],
   "source": [
    "#strip can eleminate spaces from left or right or from whole string\n",
    "name=\"      Ayub      \"\n",
    "dots=\"................\""
   ]
  },
  {
   "cell_type": "code",
   "execution_count": 6,
   "id": "267aa1aa",
   "metadata": {},
   "outputs": [
    {
     "data": {
      "text/plain": [
       "'      Ayub      ................'"
      ]
     },
     "execution_count": 6,
     "metadata": {},
     "output_type": "execute_result"
    }
   ],
   "source": [
    "name + dots"
   ]
  },
  {
   "cell_type": "code",
   "execution_count": 7,
   "id": "c6b0e362",
   "metadata": {},
   "outputs": [
    {
     "name": "stdout",
     "output_type": "stream",
     "text": [
      "Ayub      ................\n"
     ]
    }
   ],
   "source": [
    "print(name.lstrip() + dots)   #removing spaces from left"
   ]
  },
  {
   "cell_type": "code",
   "execution_count": 8,
   "id": "355ed244",
   "metadata": {},
   "outputs": [
    {
     "name": "stdout",
     "output_type": "stream",
     "text": [
      "      Ayub................\n"
     ]
    }
   ],
   "source": [
    "print(name.rstrip() + dots)   #removing spaces from right"
   ]
  },
  {
   "cell_type": "code",
   "execution_count": 9,
   "id": "acce057b",
   "metadata": {},
   "outputs": [
    {
     "name": "stdout",
     "output_type": "stream",
     "text": [
      "Ayub................\n"
     ]
    }
   ],
   "source": [
    "print(name.strip() + dots)   #removing spaces from whole string"
   ]
  },
  {
   "cell_type": "code",
   "execution_count": 11,
   "id": "ac12acf3",
   "metadata": {},
   "outputs": [
    {
     "name": "stdout",
     "output_type": "stream",
     "text": [
      "he     llo\n",
      "hello\n"
     ]
    }
   ],
   "source": [
    "hey=\"he     llo\"\n",
    "print(hey.strip()) #it can not delete middle spaces for this we use replace of spaces with no space\n",
    "print(hey.replace(\" \", \"\"))"
   ]
  },
  {
   "cell_type": "code",
   "execution_count": null,
   "id": "bfc665e1",
   "metadata": {},
   "outputs": [],
   "source": []
  }
 ],
 "metadata": {
  "kernelspec": {
   "display_name": "Python 3",
   "language": "python",
   "name": "python3"
  },
  "language_info": {
   "codemirror_mode": {
    "name": "ipython",
    "version": 3
   },
   "file_extension": ".py",
   "mimetype": "text/x-python",
   "name": "python",
   "nbconvert_exporter": "python",
   "pygments_lexer": "ipython3",
   "version": "3.8.8"
  }
 },
 "nbformat": 4,
 "nbformat_minor": 5
}
