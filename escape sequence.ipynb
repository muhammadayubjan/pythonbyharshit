{
 "cells": [
  {
   "cell_type": "code",
   "execution_count": 6,
   "metadata": {},
   "outputs": [
    {
     "name": "stdout",
     "output_type": "stream",
     "text": [
      "hello \"everyone\" here\n"
     ]
    }
   ],
   "source": [
    "#this is use of esacape sequence (black slashe \\ where we cant use doublle comma in another comma through this escape seq we can use \n",
    "print(\"hello \\\"everyone\\\" here\")"
   ]
  },
  {
   "cell_type": "code",
   "execution_count": 27,
   "metadata": {},
   "outputs": [
    {
     "name": "stdout",
     "output_type": "stream",
     "text": [
      " 'PAKISTAN' \n"
     ]
    }
   ],
   "source": [
    "#this \\' mean a single quote\n",
    "print(' \\'PAKISTAN\\' ')"
   ]
  },
  {
   "cell_type": "code",
   "execution_count": 12,
   "metadata": {},
   "outputs": [
    {
     "name": "stdout",
     "output_type": "stream",
     "text": [
      " \"PAKISTAN\" \n"
     ]
    }
   ],
   "source": [
    "#this \\\" mean a double quote\n",
    "print(\" \\\"PAKISTAN\\\" \")"
   ]
  },
  {
   "cell_type": "code",
   "execution_count": 14,
   "metadata": {},
   "outputs": [
    {
     "name": "stdout",
     "output_type": "stream",
     "text": [
      "this is single back slashe \\ \n"
     ]
    }
   ],
   "source": [
    "# this \\\\ double slashes mean single back slashe\n",
    "print(\"this is single back slashe \\\\ \")"
   ]
  },
  {
   "cell_type": "code",
   "execution_count": 15,
   "metadata": {},
   "outputs": [
    {
     "name": "stdout",
     "output_type": "stream",
     "text": [
      "this is double back slashe \\\\ \n"
     ]
    }
   ],
   "source": [
    "# this \\\\\\\\  slashes mean double back slashe\n",
    "print (\"this is double back slashe \\\\\\\\ \")"
   ]
  },
  {
   "cell_type": "code",
   "execution_count": 16,
   "metadata": {},
   "outputs": [
    {
     "name": "stdout",
     "output_type": "stream",
     "text": [
      "this is line first\n",
      "this is line second\n"
     ]
    }
   ],
   "source": [
    "#backslashe \\n it make a new line\n",
    "print(\"this is line first \\n this is line second\")"
   ]
  },
  {
   "cell_type": "code",
   "execution_count": 18,
   "metadata": {},
   "outputs": [
    {
     "name": "stdout",
     "output_type": "stream",
     "text": [
      "this is a tab function \t just like it leave a space here\n"
     ]
    }
   ],
   "source": [
    "#it give some space as tab gives\n",
    "print(\"this is a tab function \\t just like it leave a space here\")"
   ]
  },
  {
   "cell_type": "code",
   "execution_count": 20,
   "metadata": {},
   "outputs": [
    {
     "name": "stdout",
     "output_type": "stream",
     "text": [
      "hell\blo\n"
     ]
    }
   ],
   "source": [
    "#this is the use of backspace mean it will clear the word where u put it\n",
    "print(\"hell\\blo\")"
   ]
  },
  {
   "cell_type": "code",
   "execution_count": 22,
   "metadata": {},
   "outputs": [
    {
     "name": "stdout",
     "output_type": "stream",
     "text": [
      " '   \n"
     ]
    }
   ],
   "source": [
    "print(\" \\'   \")"
   ]
  },
  {
   "cell_type": "code",
   "execution_count": 24,
   "metadata": {},
   "outputs": [
    {
     "name": "stdout",
     "output_type": "stream",
     "text": [
      " \"  \n"
     ]
    }
   ],
   "source": [
    "print(\" \\\"  \")"
   ]
  },
  {
   "cell_type": "code",
   "execution_count": null,
   "metadata": {},
   "outputs": [],
   "source": []
  }
 ],
 "metadata": {
  "kernelspec": {
   "display_name": "Python 3",
   "language": "python",
   "name": "python3"
  },
  "language_info": {
   "codemirror_mode": {
    "name": "ipython",
    "version": 3
   },
   "file_extension": ".py",
   "mimetype": "text/x-python",
   "name": "python",
   "nbconvert_exporter": "python",
   "pygments_lexer": "ipython3",
   "version": "3.7.4"
  }
 },
 "nbformat": 4,
 "nbformat_minor": 2
}
