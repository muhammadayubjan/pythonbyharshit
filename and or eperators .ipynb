{
 "cells": [
  {
   "cell_type": "code",
   "execution_count": 3,
   "id": "13c2a6ec",
   "metadata": {},
   "outputs": [
    {
     "name": "stdout",
     "output_type": "stream",
     "text": [
      "condition true!\n"
     ]
    }
   ],
   "source": [
    "#cheaking two condition in same time\n",
    "            #and operator \n",
    "name=\"ayub\"\n",
    "age=23\n",
    "if name==\"ayub\" and age==23:#and operator will execute if code if both conditions(name,age) are true othervise will print else \n",
    "    print(\"condition true!\")#and operator will execute if code if both conditions(name,age) are true othervise will print else \n",
    "else:\n",
    "    print(\"condition false\")"
   ]
  },
  {
   "cell_type": "code",
   "execution_count": 6,
   "id": "58ad831e",
   "metadata": {},
   "outputs": [
    {
     "name": "stdout",
     "output_type": "stream",
     "text": [
      "condition true!\n"
     ]
    }
   ],
   "source": [
    "            #cheaking two condition in same time\n",
    "         #or operator\n",
    "name=\"ayub\"\n",
    "age=23\n",
    "if name==\"ayub\" or age==239:#or operator will execute if any one conditions in(name,age) are true othervise will print else \n",
    "    print(\"condition true!\")\n",
    "else:\n",
    "    print(\"condition false\")\n",
    "    "
   ]
  },
  {
   "cell_type": "code",
   "execution_count": null,
   "id": "ab7a527c",
   "metadata": {},
   "outputs": [],
   "source": []
  }
 ],
 "metadata": {
  "kernelspec": {
   "display_name": "Python 3",
   "language": "python",
   "name": "python3"
  },
  "language_info": {
   "codemirror_mode": {
    "name": "ipython",
    "version": 3
   },
   "file_extension": ".py",
   "mimetype": "text/x-python",
   "name": "python",
   "nbconvert_exporter": "python",
   "pygments_lexer": "ipython3",
   "version": "3.8.8"
  }
 },
 "nbformat": 4,
 "nbformat_minor": 5
}
