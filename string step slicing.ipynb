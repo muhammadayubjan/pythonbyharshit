{
 "cells": [
  {
   "cell_type": "code",
   "execution_count": 4,
   "id": "76cbce85",
   "metadata": {},
   "outputs": [
    {
     "name": "stdout",
     "output_type": "stream",
     "text": [
      "mnmia\n"
     ]
    }
   ],
   "source": [
    "#step slicing mean taking a break of 1 or 2 etc in taking slice from a string\n",
    "#syntax=  [start argument : end argument : step ]\n",
    "name=\"mynameisayub\"\n",
    "print(name[0:10:2])"
   ]
  },
  {
   "cell_type": "code",
   "execution_count": 11,
   "id": "c4f94e8e",
   "metadata": {},
   "outputs": [
    {
     "name": "stdout",
     "output_type": "stream",
     "text": [
      "buyasiema\n"
     ]
    }
   ],
   "source": [
    "#can slice from reverse \n",
    "print(name[12:2:-1])"
   ]
  },
  {
   "cell_type": "code",
   "execution_count": 12,
   "id": "65c0672c",
   "metadata": {},
   "outputs": [
    {
     "name": "stdout",
     "output_type": "stream",
     "text": [
      "buyasiemanym\n"
     ]
    }
   ],
   "source": [
    "#can reverse full string through this method \n",
    "print(name[-1::-1])"
   ]
  }
 ],
 "metadata": {
  "kernelspec": {
   "display_name": "Python 3",
   "language": "python",
   "name": "python3"
  },
  "language_info": {
   "codemirror_mode": {
    "name": "ipython",
    "version": 3
   },
   "file_extension": ".py",
   "mimetype": "text/x-python",
   "name": "python",
   "nbconvert_exporter": "python",
   "pygments_lexer": "ipython3",
   "version": "3.8.8"
  }
 },
 "nbformat": 4,
 "nbformat_minor": 5
}
