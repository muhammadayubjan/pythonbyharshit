{
 "cells": [
  {
   "cell_type": "code",
   "execution_count": 2,
   "id": "91a04420",
   "metadata": {},
   "outputs": [
    {
     "name": "stdout",
     "output_type": "stream",
     "text": [
      "ayubjan\n"
     ]
    }
   ],
   "source": [
    "#slicing or selecting sub sequence\n",
    "#syntax: [start argument : end argument] mean from where to where u want to make a slice from a string\n",
    "name=\"ayubjankhan\"\n",
    "print(name[0:7])"
   ]
  },
  {
   "cell_type": "code",
   "execution_count": 3,
   "id": "7f0dda3b",
   "metadata": {},
   "outputs": [
    {
     "name": "stdout",
     "output_type": "stream",
     "text": [
      "jankha\n"
     ]
    }
   ],
   "source": [
    "#even we can try from negative\n",
    "print(name[4:-1])"
   ]
  },
  {
   "cell_type": "code",
   "execution_count": 4,
   "id": "b6a30148",
   "metadata": {},
   "outputs": [
    {
     "name": "stdout",
     "output_type": "stream",
     "text": [
      "ayubj\n"
     ]
    }
   ],
   "source": [
    "#if did not enter start argument it will take start from first letter\n",
    "print(name[:5])"
   ]
  },
  {
   "cell_type": "code",
   "execution_count": 5,
   "id": "ebbe27ca",
   "metadata": {},
   "outputs": [
    {
     "name": "stdout",
     "output_type": "stream",
     "text": [
      "ubjankhan\n"
     ]
    }
   ],
   "source": [
    "#if did not enter end argument it will go up to end letter\n",
    "print(name[2:])"
   ]
  },
  {
   "cell_type": "code",
   "execution_count": 6,
   "id": "d2500a57",
   "metadata": {},
   "outputs": [
    {
     "name": "stdout",
     "output_type": "stream",
     "text": [
      "n\n"
     ]
    }
   ],
   "source": [
    "#string index finding single\n",
    "print(name[6])"
   ]
  },
  {
   "cell_type": "code",
   "execution_count": 7,
   "id": "07093b4c",
   "metadata": {},
   "outputs": [
    {
     "data": {
      "text/plain": [
       "11"
      ]
     },
     "execution_count": 7,
     "metadata": {},
     "output_type": "execute_result"
    }
   ],
   "source": [
    "len(name)"
   ]
  },
  {
   "cell_type": "code",
   "execution_count": null,
   "id": "7a0f45f5",
   "metadata": {},
   "outputs": [],
   "source": []
  }
 ],
 "metadata": {
  "kernelspec": {
   "display_name": "Python 3",
   "language": "python",
   "name": "python3"
  },
  "language_info": {
   "codemirror_mode": {
    "name": "ipython",
    "version": 3
   },
   "file_extension": ".py",
   "mimetype": "text/x-python",
   "name": "python",
   "nbconvert_exporter": "python",
   "pygments_lexer": "ipython3",
   "version": "3.8.8"
  }
 },
 "nbformat": 4,
 "nbformat_minor": 5
}
