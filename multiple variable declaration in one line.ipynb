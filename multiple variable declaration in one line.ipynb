{
 "cells": [
  {
   "cell_type": "code",
   "execution_count": 7,
   "metadata": {},
   "outputs": [
    {
     "name": "stdout",
     "output_type": "stream",
     "text": [
      "hey Mr Ayub\n",
      "ur age is 23\n",
      "and u r from Charsadda\n"
     ]
    }
   ],
   "source": [
    "#if u enter three variable then after = sign also give values to variable in same way\n",
    "name, age, addres = \"Mr Ayub\", \"23\", \"Charsadda\"\n",
    "print(\"hey \" + name  + \"\\nur age is \" + age + \"\\nand u r from \" + addres)"
   ]
  },
  {
   "cell_type": "code",
   "execution_count": 13,
   "metadata": {},
   "outputs": [
    {
     "name": "stdout",
     "output_type": "stream",
     "text": [
      "6\n"
     ]
    }
   ],
   "source": [
    "#u can asign single value to multiple variable in one line\n",
    "x=y=z=2\n",
    "print(x+y+z)"
   ]
  }
 ],
 "metadata": {
  "kernelspec": {
   "display_name": "Python 3",
   "language": "python",
   "name": "python3"
  },
  "language_info": {
   "codemirror_mode": {
    "name": "ipython",
    "version": 3
   },
   "file_extension": ".py",
   "mimetype": "text/x-python",
   "name": "python",
   "nbconvert_exporter": "python",
   "pygments_lexer": "ipython3",
   "version": "3.7.4"
  }
 },
 "nbformat": 4,
 "nbformat_minor": 2
}
