{
 "cells": [
  {
   "cell_type": "code",
   "execution_count": 8,
   "metadata": {},
   "outputs": [
    {
     "name": "stdout",
     "output_type": "stream",
     "text": [
      "300\n"
     ]
    }
   ],
   "source": [
    "#simple variable storing \n",
    "ayub=300\n",
    "print(ayub)"
   ]
  },
  {
   "cell_type": "code",
   "execution_count": 2,
   "metadata": {},
   "outputs": [
    {
     "name": "stdout",
     "output_type": "stream",
     "text": [
      "3\n",
      "2\n"
     ]
    }
   ],
   "source": [
    "#can change variable value\n",
    "number=3\n",
    "print(number)\n",
    "number=2\n",
    "print(number)"
   ]
  },
  {
   "cell_type": "code",
   "execution_count": 11,
   "metadata": {},
   "outputs": [
    {
     "name": "stdout",
     "output_type": "stream",
     "text": [
      "jan\n",
      "123\n"
     ]
    }
   ],
   "source": [
    "#first if u take a variable and store string value then u store integer in same variable so python change it to int\n",
    "#automatically here no need declared a vriable in python\n",
    "name=\"jan\"\n",
    "print(name)\n",
    "name=123\n",
    "print(name)"
   ]
  },
  {
   "cell_type": "code",
   "execution_count": 12,
   "metadata": {},
   "outputs": [
    {
     "ename": "SyntaxError",
     "evalue": "invalid syntax (<ipython-input-12-6c09fa1c0bfb>, line 3)",
     "output_type": "error",
     "traceback": [
      "\u001b[1;36m  File \u001b[1;32m\"<ipython-input-12-6c09fa1c0bfb>\"\u001b[1;36m, line \u001b[1;32m3\u001b[0m\n\u001b[1;33m    2name=\"khan\"    #it will give error\u001b[0m\n\u001b[1;37m        ^\u001b[0m\n\u001b[1;31mSyntaxError\u001b[0m\u001b[1;31m:\u001b[0m invalid syntax\n"
     ]
    }
   ],
   "source": [
    "#we cant start a variable with number ..... we cant enter any special charachters in variable name......\n",
    "#yes we can enter a number in middle of a variable name.........we can start v name with _   ........\n",
    "2name=\"khan\"    #it will give error\n",
    "print(2name)"
   ]
  },
  {
   "cell_type": "code",
   "execution_count": 13,
   "metadata": {},
   "outputs": [
    {
     "ename": "SyntaxError",
     "evalue": "invalid syntax (<ipython-input-13-98d9e9c48975>, line 1)",
     "output_type": "error",
     "traceback": [
      "\u001b[1;36m  File \u001b[1;32m\"<ipython-input-13-98d9e9c48975>\"\u001b[1;36m, line \u001b[1;32m1\u001b[0m\n\u001b[1;33m    $number=2          #it will give error\u001b[0m\n\u001b[1;37m    ^\u001b[0m\n\u001b[1;31mSyntaxError\u001b[0m\u001b[1;31m:\u001b[0m invalid syntax\n"
     ]
    }
   ],
   "source": [
    "$number=2          #it will give error bcz we enter special charachter\n",
    "print($number)"
   ]
  },
  {
   "cell_type": "code",
   "execution_count": 14,
   "metadata": {},
   "outputs": [
    {
     "name": "stdout",
     "output_type": "stream",
     "text": [
      "13.12\n"
     ]
    }
   ],
   "source": [
    "#correct way\n",
    "floatnumber=13.12\n",
    "print(floatnumber)"
   ]
  },
  {
   "cell_type": "code",
   "execution_count": 16,
   "metadata": {},
   "outputs": [
    {
     "name": "stdout",
     "output_type": "stream",
     "text": [
      "13\n"
     ]
    }
   ],
   "source": [
    "#correct way\n",
    "number=13\n",
    "print(number)"
   ]
  },
  {
   "cell_type": "code",
   "execution_count": 18,
   "metadata": {},
   "outputs": [
    {
     "name": "stdout",
     "output_type": "stream",
     "text": [
      "ayubjohn\n"
     ]
    }
   ],
   "source": [
    "#correct way\n",
    "myname='ayubjohn'\n",
    "print(myname)"
   ]
  },
  {
   "cell_type": "code",
   "execution_count": 20,
   "metadata": {},
   "outputs": [
    {
     "name": "stdout",
     "output_type": "stream",
     "text": [
      "12\n"
     ]
    }
   ],
   "source": [
    "#we can enter a number in middle of v name\n",
    "us1dlr=12\n",
    "print(us1dlr)"
   ]
  },
  {
   "cell_type": "code",
   "execution_count": 21,
   "metadata": {
    "scrolled": true
   },
   "outputs": [
    {
     "name": "stdout",
     "output_type": "stream",
     "text": [
      "rohit\n",
      "mohit\n"
     ]
    }
   ],
   "source": [
    "user_one_name=\"rohit\"   #snack case writing\n",
    "userOneName=\"mohit\"     #camel case writing\n",
    "print(user_one_name)\n",
    "print(userOneName)"
   ]
  }
 ],
 "metadata": {
  "kernelspec": {
   "display_name": "Python 3",
   "language": "python",
   "name": "python3"
  },
  "language_info": {
   "codemirror_mode": {
    "name": "ipython",
    "version": 3
   },
   "file_extension": ".py",
   "mimetype": "text/x-python",
   "name": "python",
   "nbconvert_exporter": "python",
   "pygments_lexer": "ipython3",
   "version": "3.7.4"
  }
 },
 "nbformat": 4,
 "nbformat_minor": 2
}
