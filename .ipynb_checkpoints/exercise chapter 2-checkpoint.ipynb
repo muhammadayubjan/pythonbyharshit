{
 "cells": [
  {
   "cell_type": "code",
   "execution_count": 7,
   "metadata": {},
   "outputs": [
    {
     "name": "stdout",
     "output_type": "stream",
     "text": [
      "enter 1st no 4\n",
      "enter 2nd no 4\n",
      "enter 3rd no 4\n",
      "the average of three number is :  4.0\n"
     ]
    }
   ],
   "source": [
    "#take three number from user and find average?\n",
    "no1=input(\"enter 1st no \")\n",
    "no2=input(\"enter 2nd no \")\n",
    "no3=input(\"enter 3rd no \")\n",
    "print(f\"the average of three number is :  {(int(no1) + int(no2) + int(no3)) / 3}\") "
   ]
  },
  {
   "cell_type": "code",
   "execution_count": 9,
   "metadata": {},
   "outputs": [
    {
     "name": "stdout",
     "output_type": "stream",
     "text": [
      "enter three numbers separated by comma: 2,2,2\n",
      "average of three numbers is : 2.0\n"
     ]
    }
   ],
   "source": [
    "#python 3.6 solving method of above question\n",
    "no1,no2,no3=input(\"enter three numbers separated by comma: \").split(\",\")\n",
    "print(f\"average of three numbers is : {(int(no1) + int(no2) + int(no3)) / 3}\")"
   ]
  }
 ],
 "metadata": {
  "kernelspec": {
   "display_name": "Python 3",
   "language": "python",
   "name": "python3"
  },
  "language_info": {
   "codemirror_mode": {
    "name": "ipython",
    "version": 3
   },
   "file_extension": ".py",
   "mimetype": "text/x-python",
   "name": "python",
   "nbconvert_exporter": "python",
   "pygments_lexer": "ipython3",
   "version": "3.7.4"
  }
 },
 "nbformat": 4,
 "nbformat_minor": 2
}
