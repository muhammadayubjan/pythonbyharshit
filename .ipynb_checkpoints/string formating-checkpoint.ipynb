{
 "cells": [
  {
   "cell_type": "code",
   "execution_count": 5,
   "metadata": {},
   "outputs": [
    {
     "name": "stdout",
     "output_type": "stream",
     "text": [
      "hey Ayub ur age is 23\n"
     ]
    }
   ],
   "source": [
    "#string formating have three method simple / python 3 / python 3.6 \n",
    "name=\"Ayub\"\n",
    "age=23\n",
    "print(\"hey \" + name + \" ur age is \" + str(age)) #ugly syntax and simple method"
   ]
  },
  {
   "cell_type": "code",
   "execution_count": 6,
   "metadata": {},
   "outputs": [
    {
     "name": "stdout",
     "output_type": "stream",
     "text": [
      "hey Ayub ur age is 23 \n"
     ]
    }
   ],
   "source": [
    "print(\"hey {} ur age is {} \".format(name,age)) #this is python 3 method "
   ]
  },
  {
   "cell_type": "code",
   "execution_count": 7,
   "metadata": {},
   "outputs": [
    {
     "name": "stdout",
     "output_type": "stream",
     "text": [
      "hey Ayub ur age is 23\n"
     ]
    }
   ],
   "source": [
    "print(f\"hey {name} ur age is {age}\") #this is python 3.6 method and this is the best method"
   ]
  },
  {
   "cell_type": "code",
   "execution_count": null,
   "metadata": {},
   "outputs": [],
   "source": []
  }
 ],
 "metadata": {
  "kernelspec": {
   "display_name": "Python 3",
   "language": "python",
   "name": "python3"
  },
  "language_info": {
   "codemirror_mode": {
    "name": "ipython",
    "version": 3
   },
   "file_extension": ".py",
   "mimetype": "text/x-python",
   "name": "python",
   "nbconvert_exporter": "python",
   "pygments_lexer": "ipython3",
   "version": "3.8.8"
  }
 },
 "nbformat": 4,
 "nbformat_minor": 2
}
