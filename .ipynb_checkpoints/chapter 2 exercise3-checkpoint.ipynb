{
 "cells": [
  {
   "cell_type": "code",
   "execution_count": 6,
   "id": "84f2935a",
   "metadata": {},
   "outputs": [
    {
     "name": "stdout",
     "output_type": "stream",
     "text": [
      "entr ur name and char comma separated:ayubjan,a\n",
      "ur name lenght is : 7\n",
      "char count : 2\n"
     ]
    }
   ],
   "source": [
    "name ,char=input(\"entr ur name and char comma separated:\").split(\",\")\n",
    "print(f\"ur name lenght is : {len(name)}\")\n",
    "print(f\"char count : {name.count(char)}\") #case sensative it wl count only what u enter mean small so wl count small"
   ]
  },
  {
   "cell_type": "code",
   "execution_count": 5,
   "id": "541e26dc",
   "metadata": {},
   "outputs": [
    {
     "name": "stdout",
     "output_type": "stream",
     "text": [
      "entr ur name and char comma separated:ayubAjan,a\n",
      "ur name lenght is : 8\n",
      "char count : 3\n"
     ]
    }
   ],
   "source": [
    "#case insensative it wl count both small or capital for this first we convert both variable to lower case\n",
    "name ,char=input(\"entr ur name and char comma separated:\").split(\",\")\n",
    "print(f\"ur name lenght is : {len(name)}\")\n",
    "print(f\"char count : {name.lower().count(char.lower())}\") "
   ]
  },
  {
   "cell_type": "code",
   "execution_count": null,
   "id": "c962aad0",
   "metadata": {},
   "outputs": [],
   "source": []
  },
  {
   "cell_type": "code",
   "execution_count": null,
   "id": "fd9b5189",
   "metadata": {},
   "outputs": [],
   "source": []
  }
 ],
 "metadata": {
  "kernelspec": {
   "display_name": "Python 3",
   "language": "python",
   "name": "python3"
  },
  "language_info": {
   "codemirror_mode": {
    "name": "ipython",
    "version": 3
   },
   "file_extension": ".py",
   "mimetype": "text/x-python",
   "name": "python",
   "nbconvert_exporter": "python",
   "pygments_lexer": "ipython3",
   "version": "3.8.8"
  }
 },
 "nbformat": 4,
 "nbformat_minor": 5
}
