{
 "cells": [
  {
   "cell_type": "code",
   "execution_count": 7,
   "id": "1f6807bd",
   "metadata": {},
   "outputs": [
    {
     "name": "stdout",
     "output_type": "stream",
     "text": [
      "guess a number 99\n",
      "you are too high\n"
     ]
    }
   ],
   "source": [
    "winning_number=5\n",
    "gussing_number=int(input(\"guess a number \"))\n",
    "if winning_number==gussing_number:\n",
    "    print(\"YOU WON!\")\n",
    "else:\n",
    "    if gussing_number < winning_number:\n",
    "        print(\"you are too low\")\n",
    "    else:\n",
    "        print(\"you are too high\")"
   ]
  }
 ],
 "metadata": {
  "kernelspec": {
   "display_name": "Python 3",
   "language": "python",
   "name": "python3"
  },
  "language_info": {
   "codemirror_mode": {
    "name": "ipython",
    "version": 3
   },
   "file_extension": ".py",
   "mimetype": "text/x-python",
   "name": "python",
   "nbconvert_exporter": "python",
   "pygments_lexer": "ipython3",
   "version": "3.8.8"
  }
 },
 "nbformat": 4,
 "nbformat_minor": 5
}
