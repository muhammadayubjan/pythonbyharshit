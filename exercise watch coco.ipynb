{
 "cells": [
  {
   "cell_type": "code",
   "execution_count": 15,
   "id": "1590bfa7",
   "metadata": {},
   "outputs": [
    {
     "name": "stdout",
     "output_type": "stream",
     "text": [
      "enter ur name and age : ayub,13\n",
      "u can watch this movie!\n"
     ]
    }
   ],
   "source": [
    "name, age= input(\"enter ur name and age : \").split(\",\")\n",
    "age=int(age)\n",
    "\n",
    "if age>10 and name[0]==\"a\" or name[0]==\"A\":\n",
    "    \n",
    "    print(\"u can watch this movie!\")\n",
    "else:\n",
    "    print(\"u cant!\")\n",
    "    "
   ]
  },
  {
   "cell_type": "code",
   "execution_count": null,
   "id": "9ccf6ef7",
   "metadata": {},
   "outputs": [],
   "source": []
  }
 ],
 "metadata": {
  "kernelspec": {
   "display_name": "Python 3",
   "language": "python",
   "name": "python3"
  },
  "language_info": {
   "codemirror_mode": {
    "name": "ipython",
    "version": 3
   },
   "file_extension": ".py",
   "mimetype": "text/x-python",
   "name": "python",
   "nbconvert_exporter": "python",
   "pygments_lexer": "ipython3",
   "version": "3.8.8"
  }
 },
 "nbformat": 4,
 "nbformat_minor": 5
}
