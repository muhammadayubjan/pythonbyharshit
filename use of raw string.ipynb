{
 "cells": [
  {
   "cell_type": "code",
   "execution_count": 1,
   "metadata": {},
   "outputs": [
    {
     "name": "stdout",
     "output_type": "stream",
     "text": [
      "this is python \\n class\n"
     ]
    }
   ],
   "source": [
    "#if we put r after print so escape sequence will also treat as simple text lets have a look\n",
    "print(r\"this is python \\n class\")"
   ]
  },
  {
   "cell_type": "code",
   "execution_count": 2,
   "metadata": {},
   "outputs": [
    {
     "name": "stdout",
     "output_type": "stream",
     "text": [
      "this is python \\t class\n"
     ]
    }
   ],
   "source": [
    "#if we put r after print so escape sequence will also treat as simple text lets have a look\n",
    "print(r\"this is python \\t class\")"
   ]
  },
  {
   "cell_type": "code",
   "execution_count": 3,
   "metadata": {},
   "outputs": [
    {
     "name": "stdout",
     "output_type": "stream",
     "text": [
      "this is python \\b class\n"
     ]
    }
   ],
   "source": [
    "#if we put r after print so escape sequence will also treat as simple text lets have a look\n",
    "print(r\"this is python \\b class\")"
   ]
  },
  {
   "cell_type": "code",
   "execution_count": 4,
   "metadata": {},
   "outputs": [
    {
     "name": "stdout",
     "output_type": "stream",
     "text": [
      "   \\'  \n"
     ]
    }
   ],
   "source": [
    "#if we put r after print so escape sequence will also treat as simple text lets have a look\n",
    "print(r\"   \\'  \")"
   ]
  },
  {
   "cell_type": "code",
   "execution_count": 7,
   "metadata": {},
   "outputs": [
    {
     "name": "stdout",
     "output_type": "stream",
     "text": [
      "    \\\"  \n"
     ]
    }
   ],
   "source": [
    "#if we put r after print so escape sequence will also treat as simple text lets have a look\n",
    "print(r\"    \\\"  \")"
   ]
  }
 ],
 "metadata": {
  "kernelspec": {
   "display_name": "Python 3",
   "language": "python",
   "name": "python3"
  },
  "language_info": {
   "codemirror_mode": {
    "name": "ipython",
    "version": 3
   },
   "file_extension": ".py",
   "mimetype": "text/x-python",
   "name": "python",
   "nbconvert_exporter": "python",
   "pygments_lexer": "ipython3",
   "version": "3.7.4"
  }
 },
 "nbformat": 4,
 "nbformat_minor": 2
}
