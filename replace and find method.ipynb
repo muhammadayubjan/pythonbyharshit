{
 "cells": [
  {
   "cell_type": "code",
   "execution_count": 5,
   "id": "cb71fa7f",
   "metadata": {},
   "outputs": [
    {
     "name": "stdout",
     "output_type": "stream",
     "text": [
      "he is A good crickter And a programmer\n"
     ]
    }
   ],
   "source": [
    "ayub=\"he is a good crickter and a programmer\"\n",
    "print(ayub.replace(\"a\",\"A\",2)) #replacing small a with capital one...2 mean change two first coming 2 'a'"
   ]
  },
  {
   "cell_type": "code",
   "execution_count": 11,
   "id": "0a91b260",
   "metadata": {},
   "outputs": [
    {
     "name": "stdout",
     "output_type": "stream",
     "text": [
      "6\n"
     ]
    }
   ],
   "source": [
    "print(ayub.find(\"a\",1)) #finding position of a letter ... 1 mean start finding from first position... wl show which comes first"
   ]
  }
 ],
 "metadata": {
  "kernelspec": {
   "display_name": "Python 3",
   "language": "python",
   "name": "python3"
  },
  "language_info": {
   "codemirror_mode": {
    "name": "ipython",
    "version": 3
   },
   "file_extension": ".py",
   "mimetype": "text/x-python",
   "name": "python",
   "nbconvert_exporter": "python",
   "pygments_lexer": "ipython3",
   "version": "3.8.8"
  }
 },
 "nbformat": 4,
 "nbformat_minor": 5
}
