{
 "cells": [
  {
   "cell_type": "code",
   "execution_count": 16,
   "metadata": {},
   "outputs": [
    {
     "name": "stdout",
     "output_type": "stream",
     "text": [
      "enter first number 34567\n",
      "enter second number 8769877\n",
      "total is\t8804444\n"
     ]
    }
   ],
   "source": [
    "number_one= int(input(\"enter first number \"))\n",
    "number_two= int(input(\"enter second number \"))\n",
    "total = ( number_one + number_two )\n",
    "print(\"total is\\t\"  + str(total) )"
   ]
  },
  {
   "cell_type": "code",
   "execution_count": null,
   "metadata": {},
   "outputs": [],
   "source": [
    "#.... string....> 2  change an int number to a string like this \"2\"  \n",
    "#.... int....> \"2\" change a string number to an int like this 2  \n",
    "#.... float....> \"2\" change a string number to int float like this 2.0\n",
    "#we cant add string and integer \n",
    "#while we can add string plus float but result will be in float\n",
    "#lets have a look to down code"
   ]
  },
  {
   "cell_type": "code",
   "execution_count": 20,
   "metadata": {},
   "outputs": [
    {
     "name": "stdout",
     "output_type": "stream",
     "text": [
      "7.0\n"
     ]
    }
   ],
   "source": [
    "number1=str(2)\n",
    "number2=int(\"3\")\n",
    "number3=float(\"4\")\n",
    "#while we can add  int plus float but result will be in float\n",
    "print(number2 + number3)"
   ]
  },
  {
   "cell_type": "code",
   "execution_count": null,
   "metadata": {},
   "outputs": [],
   "source": [
    " "
   ]
  }
 ],
 "metadata": {
  "kernelspec": {
   "display_name": "Python 3",
   "language": "python",
   "name": "python3"
  },
  "language_info": {
   "codemirror_mode": {
    "name": "ipython",
    "version": 3
   },
   "file_extension": ".py",
   "mimetype": "text/x-python",
   "name": "python",
   "nbconvert_exporter": "python",
   "pygments_lexer": "ipython3",
   "version": "3.8.8"
  }
 },
 "nbformat": 4,
 "nbformat_minor": 2
}
