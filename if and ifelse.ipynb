{
 "cells": [
  {
   "cell_type": "code",
   "execution_count": 2,
   "id": "fa92607b",
   "metadata": {},
   "outputs": [
    {
     "name": "stdout",
     "output_type": "stream",
     "text": [
      "enter ur age : 17\n",
      "u are eligable for this game \n"
     ]
    }
   ],
   "source": [
    "age=int(input(\"enter ur age : \"))\n",
    "if age >= 15:\n",
    "    print(\"u are eligable for this game \")"
   ]
  },
  {
   "cell_type": "code",
   "execution_count": 15,
   "id": "e7f16739",
   "metadata": {},
   "outputs": [
    {
     "name": "stdout",
     "output_type": "stream",
     "text": [
      "enter ur name :ayub\n",
      "hey ayub\n"
     ]
    }
   ],
   "source": [
    "ayub=input(\"enter ur name :\")\n",
    "if name==ayub:\n",
    "    print(\"hey ayub\")"
   ]
  },
  {
   "cell_type": "code",
   "execution_count": 16,
   "id": "dd130674",
   "metadata": {},
   "outputs": [
    {
     "name": "stdout",
     "output_type": "stream",
     "text": [
      "enter ur age : 12\n",
      "sorry dear u cant play this game!\n"
     ]
    }
   ],
   "source": [
    "age=int(input(\"enter ur age : \"))\n",
    "if age >= 15:\n",
    "    print(\"u are eligable for this game \")\n",
    "else:\n",
    "    print(\"sorry dear u cant play this game!\")"
   ]
  },
  {
   "cell_type": "code",
   "execution_count": null,
   "id": "a3cfa6a6",
   "metadata": {},
   "outputs": [],
   "source": []
  }
 ],
 "metadata": {
  "kernelspec": {
   "display_name": "Python 3",
   "language": "python",
   "name": "python3"
  },
  "language_info": {
   "codemirror_mode": {
    "name": "ipython",
    "version": 3
   },
   "file_extension": ".py",
   "mimetype": "text/x-python",
   "name": "python",
   "nbconvert_exporter": "python",
   "pygments_lexer": "ipython3",
   "version": "3.8.8"
  }
 },
 "nbformat": 4,
 "nbformat_minor": 5
}
