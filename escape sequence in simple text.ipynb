{
 "cells": [
  {
   "cell_type": "code",
   "execution_count": 10,
   "metadata": {},
   "outputs": [
    {
     "name": "stdout",
     "output_type": "stream",
     "text": [
      "this is \\' \n"
     ]
    }
   ],
   "source": [
    "#if we need \\' in text so look at the code .. we will put double slashes\n",
    "print(\"this is \\\\' \")"
   ]
  },
  {
   "cell_type": "code",
   "execution_count": 9,
   "metadata": {},
   "outputs": [
    {
     "name": "stdout",
     "output_type": "stream",
     "text": [
      "this is \\\"  \n"
     ]
    }
   ],
   "source": [
    "#if we need \\\" in text so look at the code .. we will put double slashes with double qoute\n",
    "print(\"this is \\\\\\\"  \")"
   ]
  },
  {
   "cell_type": "code",
   "execution_count": 11,
   "metadata": {},
   "outputs": [
    {
     "name": "stdout",
     "output_type": "stream",
     "text": [
      "this is 4 backslashes \\\\\\\\\n"
     ]
    }
   ],
   "source": [
    "print(\"this is 4 backslashes \\\\\\\\\\\\\\\\\")"
   ]
  },
  {
   "cell_type": "code",
   "execution_count": 14,
   "metadata": {},
   "outputs": [
    {
     "name": "stdout",
     "output_type": "stream",
     "text": [
      "this is line a \\n this is line b\n"
     ]
    }
   ],
   "source": [
    "#treat escap sequence \\n as simple text for this we put dbl slashes before n\n",
    "print(\"this is line a \\\\n this is line b\")"
   ]
  },
  {
   "cell_type": "code",
   "execution_count": 17,
   "metadata": {},
   "outputs": [
    {
     "name": "stdout",
     "output_type": "stream",
     "text": [
      "this is \\t python coding\n"
     ]
    }
   ],
   "source": [
    "#treat escap sequence \\t as simple text for this we put dbl slashes before t\n",
    "print(\"this is \\\\t python coding\")"
   ]
  }
 ],
 "metadata": {
  "kernelspec": {
   "display_name": "Python 3",
   "language": "python",
   "name": "python3"
  },
  "language_info": {
   "codemirror_mode": {
    "name": "ipython",
    "version": 3
   },
   "file_extension": ".py",
   "mimetype": "text/x-python",
   "name": "python",
   "nbconvert_exporter": "python",
   "pygments_lexer": "ipython3",
   "version": "3.7.4"
  }
 },
 "nbformat": 4,
 "nbformat_minor": 2
}
