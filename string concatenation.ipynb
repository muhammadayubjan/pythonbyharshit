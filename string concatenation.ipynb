{
 "cells": [
  {
   "cell_type": "code",
   "execution_count": 2,
   "metadata": {},
   "outputs": [
    {
     "name": "stdout",
     "output_type": "stream",
     "text": [
      "Mr Ayub\n"
     ]
    }
   ],
   "source": [
    "#string is the collection of charectors inside single or double quote\n",
    "first_name=\"Mr\"\n",
    "last_name=\"Ayub\"\n",
    "full_name= first_name + \" \" +  last_name\n",
    "print(full_name)\n"
   ]
  },
  {
   "cell_type": "code",
   "execution_count": 7,
   "metadata": {},
   "outputs": [
    {
     "name": "stdout",
     "output_type": "stream",
     "text": [
      "Mr 3\n"
     ]
    }
   ],
   "source": [
    "#we cant add a number with string but we can add if we change this number to string\n",
    "first_name=\"Mr\"\n",
    "last_name=\"Ayub\"\n",
    "full_name=first_name + \" \" + str(3)\n",
    "print(full_name)"
   ]
  },
  {
   "cell_type": "code",
   "execution_count": 10,
   "metadata": {},
   "outputs": [
    {
     "name": "stdout",
     "output_type": "stream",
     "text": [
      "ayub.jan ayub.jan ayub.jan \n"
     ]
    }
   ],
   "source": [
    "#if we put * operator after string so it will multiply the string value\n",
    "string1=\"ayub.jan \"\n",
    "print(string1 * 3)"
   ]
  },
  {
   "cell_type": "code",
   "execution_count": null,
   "metadata": {},
   "outputs": [],
   "source": []
  }
 ],
 "metadata": {
  "kernelspec": {
   "display_name": "Python 3",
   "language": "python",
   "name": "python3"
  },
  "language_info": {
   "codemirror_mode": {
    "name": "ipython",
    "version": 3
   },
   "file_extension": ".py",
   "mimetype": "text/x-python",
   "name": "python",
   "nbconvert_exporter": "python",
   "pygments_lexer": "ipython3",
   "version": "3.7.4"
  }
 },
 "nbformat": 4,
 "nbformat_minor": 2
}
